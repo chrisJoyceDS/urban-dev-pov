{
 "cells": [
  {
   "cell_type": "code",
   "execution_count": null,
   "id": "f001ad99-03fd-4b49-aac1-1c47f51b97af",
   "metadata": {},
   "outputs": [],
   "source": [
    "import pandas as pd\n",
    "import geopandas as gpd"
   ]
  },
  {
   "cell_type": "code",
   "execution_count": null,
   "id": "f755bdd2-1d46-4e8c-ac29-c3b4574f436b",
   "metadata": {},
   "outputs": [],
   "source": [
    "# Specifying the files this way lets us pull the data directly from the .zip file\n",
    "dc_file = \"./data/dcnyse_metro_census_tracts.zip!dc_metro_census_tracts.shp\"\n",
    "ny_file = \"./data/dcnyse_metro_census_tracts.zip!ny_metro_census_tracts.shp\"\n",
    "se_file = \"./data/dcnyse_metro_census_tracts.zip!seattle_metro_census_tracts.shp\"\n",
    "\n",
    "dc = gpd.read_file(dc_file)\n",
    "ny = gpd.read_file(ny_file)\n",
    "se = gpd.read_file(se_file)"
   ]
  },
  {
   "cell_type": "markdown",
   "id": "942f6771-f66e-490b-b49c-d388606523fd",
   "metadata": {},
   "source": [
    "## NOTE: This notebook file is too large for github with the maps rendered, so you have to render them locally."
   ]
  },
  {
   "cell_type": "markdown",
   "id": "5d19d0e0-cc13-4809-9a53-bc3aa92a94a0",
   "metadata": {},
   "source": [
    "### Seattle"
   ]
  },
  {
   "cell_type": "code",
   "execution_count": null,
   "id": "728b7ffb-2918-4747-aaa4-27ce5dd9fe97",
   "metadata": {},
   "outputs": [],
   "source": [
    "# Seattle Data\n",
    "se_clust = pd.read_csv('./data/seattle_clusters.csv')\n",
    "\n",
    "# GEOID10 column should be set to a string/object\n",
    "se_clust['GEOID10'] = se_clust['GEOID10'].astype('str')"
   ]
  },
  {
   "cell_type": "code",
   "execution_count": null,
   "id": "a7f265ad-a2d4-4fe4-a3db-4a31bbaee114",
   "metadata": {},
   "outputs": [],
   "source": [
    "# Merge the clusters in with the Seattle geodataframe\n",
    "se_ch = se.merge(se_clust, on='GEOID10')"
   ]
  },
  {
   "cell_type": "code",
   "execution_count": null,
   "id": "30c38935-bea2-47a4-ab2a-edf39222cf32",
   "metadata": {},
   "outputs": [],
   "source": [
    "# Make geojson of geometry\n",
    "#ny_geo = gpd.GeoSeries(df.set_index('BoroCode')['geometry']).to_json()"
   ]
  },
  {
   "cell_type": "code",
   "execution_count": null,
   "id": "b4a37f0e-2e21-4ec7-8792-498afa305cc0",
   "metadata": {},
   "outputs": [],
   "source": [
    "se_ch.columns"
   ]
  },
  {
   "cell_type": "code",
   "execution_count": null,
   "id": "c4edb948-1d90-4848-b6f6-5da59146ada1",
   "metadata": {},
   "outputs": [],
   "source": [
    "se_ch = se_ch.loc[se_ch['year'] == 2019]"
   ]
  },
  {
   "cell_type": "code",
   "execution_count": null,
   "id": "a4769aa6-35b3-462f-8547-58cf6d1d90f3",
   "metadata": {
    "tags": []
   },
   "outputs": [],
   "source": [
    "# Clusters\n",
    "se_ch.explore(\n",
    "     column=\"cluster\", # make choropleth based on \"BoroName\" column\n",
    "     tooltip=\"ppov\", # show \"BoroName\" value in tooltip (on hover)\n",
    "     popup=True, # show all values in popup (on click)\n",
    "     tiles=\"CartoDB positron\", # use \"CartoDB positron\" tiles\n",
    "     cmap=\"Set1\", # use \"Set1\" matplotlib colormap\n",
    "     style_kwds=dict(fillOpacity = 0.25, stroke = False), \n",
    "     categorical = True,\n",
    "     legend = True\n",
    "    )"
   ]
  },
  {
   "cell_type": "code",
   "execution_count": null,
   "id": "dc266903-5882-4c9d-a012-2e567e045d43",
   "metadata": {
    "tags": []
   },
   "outputs": [],
   "source": [
    "# Percent Poverty\n",
    "se_ch.explore(\n",
    "     column=\"ppov\", # make choropleth based on \"BoroName\" column\n",
    "     tooltip=\"ppov\", # show \"BoroName\" value in tooltip (on hover)\n",
    "     popup=True, # show all values in popup (on click)\n",
    "     tiles=\"CartoDB positron\", # use \"CartoDB positron\" tiles\n",
    "     style_kwds=dict(fillOpacity = 0.25, stroke = False), \n",
    "     legend = True\n",
    "    )"
   ]
  },
  {
   "cell_type": "code",
   "execution_count": null,
   "id": "0d5b74ab-203d-4ba7-852e-7f933531cb6f",
   "metadata": {
    "tags": []
   },
   "outputs": [],
   "source": [
    "# Forested\n",
    "se_ch.explore(\n",
    "     column=\"forested\", # make choropleth based on \"BoroName\" column\n",
    "     tooltip=\"forested\", # show \"BoroName\" value in tooltip (on hover)\n",
    "     popup=True, # show all values in popup (on click)\n",
    "     tiles=\"CartoDB positron\", # use \"CartoDB positron\" tiles\n",
    "     #cmap=\"Set1\", # use \"Set1\" matplotlib colormap\n",
    "     style_kwds=dict(fillOpacity = 0.25, stroke = False), \n",
    "     #legend = False\n",
    "    )"
   ]
  },
  {
   "cell_type": "markdown",
   "id": "c5b62179-8938-44d2-bb6e-1359060d36d5",
   "metadata": {},
   "source": [
    "### NYC"
   ]
  },
  {
   "cell_type": "code",
   "execution_count": null,
   "id": "5a58dc3d-e386-489f-807d-724285a9d8be",
   "metadata": {},
   "outputs": [],
   "source": [
    "# NYC Data\n",
    "ny_clust = pd.read_csv('./data/nyc_clusters.csv')\n",
    "\n",
    "# GEOID10 column should be set to a string/object\n",
    "ny_clust['GEOID10'] = ny_clust['GEOID10'].astype('str')"
   ]
  },
  {
   "cell_type": "code",
   "execution_count": null,
   "id": "8523f775-e93c-4658-9e4e-f77908cb753f",
   "metadata": {},
   "outputs": [],
   "source": [
    "# Merge the clusters in with the NYC geodataframe\n",
    "ny_ch = ny.merge(ny_clust, on='GEOID10')"
   ]
  },
  {
   "cell_type": "code",
   "execution_count": null,
   "id": "d3a7b936-93b9-40fa-ac41-e7f07ed9f8e9",
   "metadata": {},
   "outputs": [],
   "source": [
    "ny_ch = ny_ch.loc[ny_ch['year'] == 2019]"
   ]
  },
  {
   "cell_type": "code",
   "execution_count": null,
   "id": "24ff94d2-06d4-47ea-8218-add7f761659e",
   "metadata": {
    "tags": []
   },
   "outputs": [],
   "source": [
    "# Clusters\n",
    "ny_ch.explore(\n",
    "     column=\"cluster\", # make choropleth based on \"BoroName\" column\n",
    "     tooltip=\"ppov\", # show \"BoroName\" value in tooltip (on hover)\n",
    "     popup=True, # show all values in popup (on click)\n",
    "     tiles=\"CartoDB positron\", # use \"CartoDB positron\" tiles\n",
    "     cmap=\"Set1\", # use \"Set1\" matplotlib colormap\n",
    "     style_kwds=dict(fillOpacity = 0.25, stroke = False), \n",
    "     categorical = True,\n",
    "     legend = True\n",
    "    )"
   ]
  },
  {
   "cell_type": "code",
   "execution_count": null,
   "id": "ed57212d-5489-435f-9040-86d7e593678c",
   "metadata": {
    "tags": []
   },
   "outputs": [],
   "source": [
    "# Percent Poverty 2019\n",
    "ny_ch.explore(\n",
    "     column=\"ppov\", # make choropleth based on \"BoroName\" column\n",
    "     tooltip=\"ppov\", # show \"BoroName\" value in tooltip (on hover)\n",
    "     popup=True, # show all values in popup (on click)\n",
    "     tiles=\"CartoDB positron\", # use \"CartoDB positron\" tiles\n",
    "     style_kwds=dict(fillOpacity = 0.25, stroke = False), \n",
    "     legend = True\n",
    "    )"
   ]
  },
  {
   "cell_type": "code",
   "execution_count": null,
   "id": "742c6449-f84d-4fb8-8091-d8e7e67a8132",
   "metadata": {
    "tags": []
   },
   "outputs": [],
   "source": [
    "# Forested 2019\n",
    "ny_ch.explore(\n",
    "     column=\"forested\", # make choropleth based on \"BoroName\" column\n",
    "     tooltip=\"ppov\", # show \"BoroName\" value in tooltip (on hover)\n",
    "     popup=True, # show all values in popup (on click)\n",
    "     tiles=\"CartoDB positron\", # use \"CartoDB positron\" tiles\n",
    "     style_kwds=dict(fillOpacity = 0.25, stroke = False), \n",
    "     legend = True\n",
    "    )"
   ]
  },
  {
   "cell_type": "code",
   "execution_count": null,
   "id": "a2905416-5f49-4794-81b9-18cf774d69c7",
   "metadata": {
    "tags": []
   },
   "outputs": [],
   "source": [
    "# open urban space 2019\n",
    "ny_ch.explore(\n",
    "     column=\"open_urban_space\", # make choropleth based on \"BoroName\" column\n",
    "     tooltip=\"ppov\", # show \"BoroName\" value in tooltip (on hover)\n",
    "     popup=True, # show all values in popup (on click)\n",
    "     tiles=\"CartoDB positron\", # use \"CartoDB positron\" tiles\n",
    "     style_kwds=dict(fillOpacity = 0.25, stroke = False), \n",
    "     legend = True\n",
    "    )"
   ]
  },
  {
   "cell_type": "markdown",
   "id": "99456dba-74c1-4806-b135-31485a94ba8a",
   "metadata": {},
   "source": [
    "### DC"
   ]
  },
  {
   "cell_type": "code",
   "execution_count": null,
   "id": "4fd09e43-55c9-4ef7-90a8-15a8a1d2bc2c",
   "metadata": {},
   "outputs": [],
   "source": [
    "# DC Data\n",
    "dc_clust = pd.read_csv('./data/dc_clusters.csv')\n",
    "\n",
    "# GEOID10 column should be set to a string/object\n",
    "dc_clust['GEOID10'] = dc_clust['GEOID10'].astype('str')"
   ]
  },
  {
   "cell_type": "code",
   "execution_count": null,
   "id": "e668123f-f3d5-41b7-94d3-169bdd934cb3",
   "metadata": {},
   "outputs": [],
   "source": [
    "# Merge the clusters in with the DC geodataframe\n",
    "dc_ch = dc.merge(dc_clust, on='GEOID10')"
   ]
  },
  {
   "cell_type": "code",
   "execution_count": null,
   "id": "6978b3a7-9e2c-4bd0-ab3c-863972839a86",
   "metadata": {},
   "outputs": [],
   "source": [
    "dc_ch = dc_ch.loc[dc_ch['year'] == 2019]"
   ]
  },
  {
   "cell_type": "code",
   "execution_count": null,
   "id": "066b8fad-3b5c-4836-a6d9-2c37395e34d0",
   "metadata": {
    "tags": []
   },
   "outputs": [],
   "source": [
    "# Clusters\n",
    "dc_ch.explore(\n",
    "     column=\"cluster\", # make choropleth based on \"BoroName\" column\n",
    "     tooltip=\"ppov\", # show \"BoroName\" value in tooltip (on hover)\n",
    "     popup=True, # show all values in popup (on click)\n",
    "     tiles=\"CartoDB positron\", # use \"CartoDB positron\" tiles\n",
    "     #cmap=\"Set1\", # use \"Set1\" matplotlib colormap\n",
    "     style_kwds=dict(fillOpacity = 0.25, stroke = False), \n",
    "     categorical = True,\n",
    "     legend = True\n",
    "    )"
   ]
  },
  {
   "cell_type": "code",
   "execution_count": null,
   "id": "6decda8b-e9a9-4e89-b1ac-5526472c8264",
   "metadata": {
    "tags": []
   },
   "outputs": [],
   "source": [
    "# Percent Poverty \n",
    "dc_ch.explore(\n",
    "     column=\"ppov\", # make choropleth based on \"BoroName\" column\n",
    "     tooltip=\"ppov\", # show \"BoroName\" value in tooltip (on hover)\n",
    "     popup=True, # show all values in popup (on click)\n",
    "     tiles=\"CartoDB positron\", # use \"CartoDB positron\" tiles\n",
    "     style_kwds=dict(fillOpacity = 0.25, stroke = False), \n",
    "    )"
   ]
  },
  {
   "cell_type": "code",
   "execution_count": null,
   "id": "f6dcf98f-0564-4f29-841b-a1bce9a81b43",
   "metadata": {
    "tags": []
   },
   "outputs": [],
   "source": [
    "# Forested\n",
    "dc_ch.explore(\n",
    "     column=\"forested\", # make choropleth based on \"BoroName\" column\n",
    "     tooltip=\"ppov\", # show \"BoroName\" value in tooltip (on hover)\n",
    "     popup=True, # show all values in popup (on click)\n",
    "     tiles=\"CartoDB positron\", # use \"CartoDB positron\" tiles\n",
    "     style_kwds=dict(fillOpacity = 0.25, stroke = False)\n",
    "    )"
   ]
  },
  {
   "cell_type": "code",
   "execution_count": null,
   "id": "221aef18-df2c-48b0-8210-db002adcb9cc",
   "metadata": {},
   "outputs": [],
   "source": []
  },
  {
   "cell_type": "code",
   "execution_count": null,
   "id": "d8db1f18-8647-4439-a047-5592f9908520",
   "metadata": {},
   "outputs": [],
   "source": []
  },
  {
   "cell_type": "code",
   "execution_count": null,
   "id": "983509ae-a3eb-4eed-82fa-ed3414e03de5",
   "metadata": {},
   "outputs": [],
   "source": []
  }
 ],
 "metadata": {
  "kernelspec": {
   "display_name": "Python 3 (ipykernel)",
   "language": "python",
   "name": "python3"
  },
  "language_info": {
   "codemirror_mode": {
    "name": "ipython",
    "version": 3
   },
   "file_extension": ".py",
   "mimetype": "text/x-python",
   "name": "python",
   "nbconvert_exporter": "python",
   "pygments_lexer": "ipython3",
   "version": "3.10.10"
  }
 },
 "nbformat": 4,
 "nbformat_minor": 5
}

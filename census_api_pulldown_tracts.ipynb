{
 "cells": [
  {
   "cell_type": "markdown",
   "id": "e6044826-3d5e-4102-8f3b-49260482802e",
   "metadata": {},
   "source": [
    "### Getting and Displaying Census Data\n",
    "+ Package dotenv allows us to load API keys from .env files which are in .git_ignore to keep them private. \n",
    "    - The `secrets.env` file only needs one line that reads: `uscb_api_key = '<your API key>''`\n",
    "    - To request an API key: https://api.census.gov/data/key_signup.html\n",
    "    - Census API documentation: https://www.census.gov/data/developers/data-sets.html\n",
    "    \n",
    "- Package [`us`](https://pypi.org/project/us/) will give you FIPS codes for locations as well as shapefiles from TIGER.\n",
    "    - Fun fact! TIGER stands for \"Topologically Integrated Geographic Encoding and Referencing\".\n",
    "+ Package [`census`](https://pypi.org/project/census/) pulls down data from the US Census Bureau (USCB)\n",
    "\n",
    "The code below is based on the documentation for the [`census`](https://pypi.org/project/census/) package."
   ]
  },
  {
   "cell_type": "code",
   "execution_count": 43,
   "id": "d0895aae-5c9b-4ed6-aaad-a25b72faff3b",
   "metadata": {
    "tags": []
   },
   "outputs": [],
   "source": [
    "#!pip install census\n",
    "#!pip install us"
   ]
  },
  {
   "cell_type": "code",
   "execution_count": 134,
   "id": "a4dfe31e-884c-4e10-88a4-e67c7d303aec",
   "metadata": {
    "tags": []
   },
   "outputs": [],
   "source": [
    "import os\n",
    "import gc\n",
    "import requests\n",
    "\n",
    "import matplotlib.pyplot as plt\n",
    "import pandas as pd\n",
    "\n",
    "from dotenv import load_dotenv\n",
    "from zipfile import ZipFile\n",
    "\n",
    "from census import Census\n",
    "import us\n",
    "\n",
    "import contextily as ctx \n",
    "import geopandas as gpd\n",
    "\n",
    "from tqdm import tqdm"
   ]
  },
  {
   "cell_type": "code",
   "execution_count": 173,
   "id": "29a31de4-f3a5-453f-a2e5-fb69d710443a",
   "metadata": {
    "tags": []
   },
   "outputs": [
    {
     "data": {
      "text/plain": [
       "True"
      ]
     },
     "execution_count": 173,
     "metadata": {},
     "output_type": "execute_result"
    }
   ],
   "source": [
    "# Import census API key - returns true if successful\n",
    "load_dotenv('./secrets.env')"
   ]
  },
  {
   "cell_type": "code",
   "execution_count": 171,
   "id": "62338870-cb1c-4476-a1c5-8470510a87c9",
   "metadata": {
    "tags": []
   },
   "outputs": [],
   "source": [
    "uscb_api_key = os.getenv('uscb_api_key')"
   ]
  },
  {
   "cell_type": "code",
   "execution_count": null,
   "id": "afdf6dcb-8158-4ab1-a7a0-6ef6c31e7ca2",
   "metadata": {},
   "outputs": [],
   "source": []
  },
  {
   "cell_type": "code",
   "execution_count": 139,
   "id": "95f070ca-260a-486e-984b-4553cab67c5a",
   "metadata": {
    "tags": []
   },
   "outputs": [],
   "source": [
    "# This function, when given a url, will download a zip file  to `dl_folder` and extract its contents\n",
    "# into `ext_folder` \n",
    "def download_and_unzip_files(url, ext, ext_folder = './ext_files/', dl_folder = './downloaded_files/'):\n",
    "    \n",
    "    # check for and make output_folders\n",
    "    if not os.path.exists(ext_folder):\n",
    "        os.makedirs(folder_name)\n",
    "    if not os.path.exists(dl_folder):\n",
    "        os.makedirs(dl_folder)\n",
    "\n",
    "    # Download url to dl_folder\n",
    "    url = url\n",
    "    filename = url.rsplit('/', 1)[1]\n",
    "    r = requests.get(url, allow_redirects=True)\n",
    "    open(dl_folder + filename, 'wb').write(r.content)\n",
    "    #print(filename)\n",
    "\n",
    "    # extract files with ext to ext_folder\n",
    "    with ZipFile(dl_folder + filename, 'r') as zip_file:\n",
    "        ## to extrat only a certain kind of file\n",
    "        #shapefile = [file for file in zip_file.namelist() if file.endswith(ext)][0]\n",
    "        #zip_file.extract(shapefile, ext_folder)\n",
    "        \n",
    "        # to extract all files\n",
    "        zip_file.extractall(ext_folder)"
   ]
  },
  {
   "cell_type": "code",
   "execution_count": 140,
   "id": "d583274e-4905-4126-aea5-e4a0722cdfda",
   "metadata": {
    "tags": []
   },
   "outputs": [],
   "source": [
    "# get a list of all objects in memory\n",
    "all_objects = gc.get_objects()\n",
    "\n",
    "# filter the list to only include instances of MyClass\n",
    "myclass_instances = [obj for obj in all_objects if isinstance(obj, us.states.State)]\n",
    "\n",
    "tract_urls = [ ]\n",
    "# iterate over all instances\n",
    "for instance in myclass_instances:\n",
    "    if 'tract' in instance.shapefile_urls():\n",
    "        #print(instance)\n",
    "        #print(instance.shapefile_urls()['tract'])\n",
    "        tract_urls.append(instance.shapefile_urls()['tract'])"
   ]
  },
  {
   "cell_type": "code",
   "execution_count": 141,
   "id": "3dd0c18c-db0c-4aaa-b60b-60794026dab2",
   "metadata": {
    "tags": []
   },
   "outputs": [
    {
     "name": "stderr",
     "output_type": "stream",
     "text": [
      "Download Progress: 100%|██████████████████████████████████████████████████████████████████████████████████| 56/56 [00:16<00:00,  3.30it/s]\n"
     ]
    }
   ],
   "source": [
    "# Download the .zip files from USCB        \n",
    "for url in tqdm(tract_urls, desc =\"Download Progress\"):\n",
    "    download_and_unzip_files(url, '.shp', ext_folder = './tract_shapefiles/')"
   ]
  },
  {
   "cell_type": "markdown",
   "id": "27ba7253-8042-4d83-954a-139ae7b2ea7b",
   "metadata": {},
   "source": [
    "### Let us draw those shapefiles, won't you?"
   ]
  },
  {
   "cell_type": "markdown",
   "id": "2ae3d3b5-0700-416c-b9e1-de7998bd004c",
   "metadata": {},
   "source": [
    "### Geopandas\n",
    "Tutorial: ([link](https://medium.com/@jl_ruiz/plot-maps-from-the-us-census-bureau-using-geopandas-and-contextily-in-python-df787647ef77))"
   ]
  },
  {
   "cell_type": "code",
   "execution_count": 168,
   "id": "5e467e06-46da-4f76-8f31-f2c8d5f9bca9",
   "metadata": {},
   "outputs": [],
   "source": [
    "# List of shapefiles (slow)\n",
    "folder_path = './tract_shapefiles/'\n",
    "shapefile_list = [folder_path + f for f in os.listdir(folder_path) if f.endswith('.shp')]\n",
    "\n",
    "# Read in each shapefile as a GeoDataFrame and combine them into one\n",
    "gdf = gpd.GeoDataFrame(pd.concat([gpd.read_file(file) for file in shapefile_list], ignore_index=True), crs=gpd.read_file(shapefile_list[0]).crs)"
   ]
  },
  {
   "cell_type": "code",
   "execution_count": 169,
   "id": "80ac5f25-16b7-43c2-82fd-56704e5f04f2",
   "metadata": {},
   "outputs": [
    {
     "data": {
      "text/plain": [
       "<Axes: >"
      ]
     },
     "execution_count": 170,
     "metadata": {},
     "output_type": "execute_result"
    },
    {
     "data": {
      "image/png": "[encoded data removed]",
      "text/plain": [
       "<Figure size 1000x1000 with 1 Axes>"
      ]
     },
     "metadata": {},
     "output_type": "display_data"
    }
   ],
   "source": [
    "# Plot the GeoDataFrame using GeoPandas' plot function\n",
    "fig, ax = plt.subplots(figsize=(10, 10))\n",
    "\n",
    "# Plot the GeoDataFrame using GeoPandas' plot function\n",
    "gdf.plot(ax=ax,xlim=bbox[:2], ylim=bbox[2:])\n",
    "# Show the plot\n",
    "plt.show()"
   ]
  }
 ],
 "metadata": {
  "kernelspec": {
   "display_name": "Python 3 (ipykernel)",
   "language": "python",
   "name": "python3"
  },
  "language_info": {
   "codemirror_mode": {
    "name": "ipython",
    "version": 3
   },
   "file_extension": ".py",
   "mimetype": "text/x-python",
   "name": "python",
   "nbconvert_exporter": "python",
   "pygments_lexer": "ipython3",
   "version": "3.10.10"
  }
 },
 "nbformat": 4,
 "nbformat_minor": 5
}
